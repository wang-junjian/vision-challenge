{
 "cells": [
  {
   "cell_type": "markdown",
   "metadata": {},
   "source": [
    "# [Google Open Images Challenge 2018](https://storage.googleapis.com/openimages/web/challenge.html)"
   ]
  },
  {
   "cell_type": "markdown",
   "metadata": {},
   "source": [
    "## 参考资料\n",
    "\n",
    "* [Open Images Dataset V4](https://storage.googleapis.com/openimages/web/index.html)\n",
    "* [Google Open Images Challenge 2018](https://storage.googleapis.com/openimages/web/challenge.html)\n",
    "* [谷歌发布 Open Images V4数据集，190万张图片开启公开图像挑战赛](https://www.leiphone.com/news/201805/AlOdBu0uXZY0ZVT9.html)"
   ]
  }
 ],
 "metadata": {
  "kernelspec": {
   "display_name": "Python 3",
   "language": "python",
   "name": "python3"
  },
  "language_info": {
   "codemirror_mode": {
    "name": "ipython",
    "version": 3
   },
   "file_extension": ".py",
   "mimetype": "text/x-python",
   "name": "python",
   "nbconvert_exporter": "python",
   "pygments_lexer": "ipython3",
   "version": "3.6.4"
  }
 },
 "nbformat": 4,
 "nbformat_minor": 2
}
