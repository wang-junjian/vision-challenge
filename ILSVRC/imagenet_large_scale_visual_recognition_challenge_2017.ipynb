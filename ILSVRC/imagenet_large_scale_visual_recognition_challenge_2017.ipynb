{
 "cells": [
  {
   "cell_type": "markdown",
   "metadata": {},
   "source": [
    "# [ImageNet Large Scale Visual Recognition Challenge 2017](http://image-net.org/challenges/LSVRC/2017/index)"
   ]
  },
  {
   "cell_type": "markdown",
   "metadata": {},
   "source": [
    "## 参考资料\n",
    "\n",
    "* [ImageNet](http://image-net.org)\n",
    "* [ImageNet Large Scale Visual Recognition Challenge 2017 (ILSVRC2017)](http://image-net.org/challenges/LSVRC/2017/index)\n",
    "* [ImageNet Large Scale Visual Recognition Challenge 2017 (ILSVRC2017) Download](http://image-net.org/challenges/LSVRC/2017/download-images-1p39.php)"
   ]
  }
 ],
 "metadata": {
  "kernelspec": {
   "display_name": "Python 3",
   "language": "python",
   "name": "python3"
  },
  "language_info": {
   "codemirror_mode": {
    "name": "ipython",
    "version": 3
   },
   "file_extension": ".py",
   "mimetype": "text/x-python",
   "name": "python",
   "nbconvert_exporter": "python",
   "pygments_lexer": "ipython3",
   "version": "3.6.4"
  }
 },
 "nbformat": 4,
 "nbformat_minor": 2
}
