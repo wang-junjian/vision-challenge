{
 "cells": [
  {
   "cell_type": "markdown",
   "metadata": {},
   "source": [
    "# Common Objects in Context"
   ]
  },
  {
   "cell_type": "markdown",
   "metadata": {},
   "source": [
    "## 参考资料\n",
    "\n",
    "* [COCO Detection Challenge](https://competitions.codalab.org/competitions/5181)\n",
    "* [cocoapi](https://github.com/cocodataset/cocoapi)\n",
    "* [cocodataset](https://github.com/cocodataset)\n",
    "* [COCO数据集整理](https://zhuanlan.zhihu.com/p/34327319)\n",
    "* [Microsoft COCO: Common Objects in Context](https://www.microsoft.com/en-us/research/wp-content/uploads/2014/09/LinECCV14coco.pdf)\n",
    "* [Microsoft COCO: Common Objects in Context](https://arxiv.org/pdf/1405.0312.pdf)\n",
    "* [MS coco数据集下载](https://blog.csdn.net/daniaokuye/article/details/78699138)\n",
    "* [COCO数据库](https://blog.csdn.net/happyhorizion/article/details/77894205)\n",
    "* [Dataset - COCO Dataset 数据特点](https://blog.csdn.net/zziahgf/article/details/72819043)\n",
    "* [COCO数据集的标注格式](https://zhuanlan.zhihu.com/p/29393415)"
   ]
  }
 ],
 "metadata": {
  "kernelspec": {
   "display_name": "Python 3",
   "language": "python",
   "name": "python3"
  },
  "language_info": {
   "codemirror_mode": {
    "name": "ipython",
    "version": 3
   },
   "file_extension": ".py",
   "mimetype": "text/x-python",
   "name": "python",
   "nbconvert_exporter": "python",
   "pygments_lexer": "ipython3",
   "version": "3.6.4"
  }
 },
 "nbformat": 4,
 "nbformat_minor": 2
}
